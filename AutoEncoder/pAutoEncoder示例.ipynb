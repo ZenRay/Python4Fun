{
 "cells": [
  {
   "cell_type": "markdown",
   "id": "acceptable-pound",
   "metadata": {},
   "source": [
    "# 自编码示例"
   ]
  },
  {
   "cell_type": "code",
   "execution_count": 1,
   "id": "western-truth",
   "metadata": {},
   "outputs": [],
   "source": [
    "import warnings\n",
    "import cv2\n",
    "import keras\n",
    "import numpy as np\n",
    "import tensorflow as tf\n",
    "\n",
    "from PIL import Image\n",
    "from keras.datasets import mnist\n",
    "from keras import layers"
   ]
  },
  {
   "cell_type": "code",
   "execution_count": 2,
   "id": "proper-lodge",
   "metadata": {},
   "outputs": [],
   "source": [
    "with warnings.catch_warnings():\n",
    "    warnings.filterwarnings(\"ignore\")\n",
    "    from matplotlib import pyplot as plt"
   ]
  },
  {
   "cell_type": "code",
   "execution_count": 3,
   "id": "polish-feature",
   "metadata": {},
   "outputs": [],
   "source": [
    "# 加载 MNIST 数据\n",
    "with warnings.catch_warnings():\n",
    "    warnings.filterwarnings(\"ignore\")\n",
    "    train, test = [list(i) for i in mnist.load_data()]"
   ]
  },
  {
   "cell_type": "code",
   "execution_count": 4,
   "id": "mobile-suite",
   "metadata": {},
   "outputs": [
    {
     "data": {
      "image/png": "[encoded data removed]",
      "text/plain": [
       "<Figure size 432x288 with 3 Axes>"
      ]
     },
     "metadata": {
      "needs_background": "light"
     },
     "output_type": "display_data"
    }
   ],
   "source": [
    "# 显示图片\n",
    "index = np.random.randint(train[0].shape[0], size=3)\n",
    "fig, ax = plt.subplots(ncols=index.shape[0])\n",
    "for i in range(index.shape[0]):\n",
    "    ax[i].set_axis_off()\n",
    "    ax[i].imshow(train[0][index[i]], cmap=\"gray\")\n",
    "    \n",
    "plt.show()"
   ]
  },
  {
   "cell_type": "markdown",
   "id": "corrected-benefit",
   "metadata": {},
   "source": [
    "# 数据处理\n",
    "图像像素值范围 $[0,255]$，在模型搭建过程中避免某些数据值过大导致其他信息被屏蔽，因此先将数据缩放——缩放的方式为 MinMax 方式"
   ]
  },
  {
   "cell_type": "code",
   "execution_count": 5,
   "id": "coupled-description",
   "metadata": {},
   "outputs": [],
   "source": [
    "# 缩放数据\n",
    "train[0] = train[0] / 255\n",
    "test[0] = test[0] / 255"
   ]
  },
  {
   "cell_type": "code",
   "execution_count": 6,
   "id": "noble-insured",
   "metadata": {},
   "outputs": [],
   "source": [
    "# 拆分数据\n",
    "validate = (train[0][:int(train[0].shape[0] * .2)], train[1][:int(train[0].shape[0] * .2)])\n",
    "train = (train[0][int(train[0].shape[0] * .2):], train[1][int(train[0].shape[0] * .2):])"
   ]
  },
  {
   "cell_type": "markdown",
   "id": "bacterial-junction",
   "metadata": {},
   "source": [
    "# 搭建模型"
   ]
  },
  {
   "cell_type": "code",
   "execution_count": 7,
   "id": "sunset-family",
   "metadata": {},
   "outputs": [],
   "source": [
    "# 构建新的评估指标\n",
    "def rounded_accuracy(y_true, y_pred):\n",
    "    return keras.metrics.binary_accuracy(tf.round(y_true), tf.round(y_pred))"
   ]
  },
  {
   "cell_type": "code",
   "execution_count": 8,
   "id": "requested-elements",
   "metadata": {},
   "outputs": [],
   "source": [
    "class AutoEncoder:\n",
    "    def __init__(self, img_size=(28, 28)):\n",
    "        # encoder node\n",
    "        encoder_input_ = layers.Input(shape=img_size, name=\"encoder_input\")\n",
    "        flatten = layers.Flatten(name=\"encoder_flatten\")(encoder_input_)\n",
    "        encoder_output_ = layers.Dense(name=\"encoder_output\", units=64, activation=\"relu\")(flatten)\n",
    "        \n",
    "        self.encoder = keras.Model(encoder_input_, encoder_output_, name=\"encoder\")\n",
    "        \n",
    "        # decoder node\n",
    "        decoder_input_ = layers.Dense(name=\"decoder_input\", units=64, activation=\"relu\")(encoder_output_)\n",
    "        dense = layers.Dense(name=\"decoder_dense\", units=np.prod(img_size), activation=\"relu\")(decoder_input_)\n",
    "        decoder_output_ = layers.Reshape(target_shape=img_size, name=\"decoder_output\")(dense)\n",
    "        \n",
    "        # optimizer\n",
    "        self.optimizer = keras.optimizers.Adam(learning_rate=1e-3, decay=1e-6)\n",
    "        \n",
    "        # combine two nodes\n",
    "        self.model = keras.Model(encoder_input_, decoder_output_, name=\"auto_encoder_model\")\n",
    "    \n",
    "    def summary(self):\n",
    "        \"\"\"Diplay Model Summary\"\"\"\n",
    "        return self.model.summary()\n",
    "    \n",
    "    def compile(self, **kwargs):\n",
    "        \"\"\"Compile Model\"\"\"\n",
    "        if \"optimizer\" not in kwargs:\n",
    "            kwargs[\"optimizer\"] = self.optimizer\n",
    "        return self.model.compile(**kwargs)\n",
    "    \n",
    "    def fit(self, x, y, **kwargs):\n",
    "        \"\"\"Train Model\"\"\"\n",
    "        self.model.fit(x, y, **kwargs)"
   ]
  },
  {
   "cell_type": "code",
   "execution_count": 9,
   "id": "received-offense",
   "metadata": {},
   "outputs": [
    {
     "name": "stdout",
     "output_type": "stream",
     "text": [
      "Epoch 1/10\n",
      "1500/1500 [==============================] - 4s 2ms/step - loss: 0.0343 - val_loss: 0.0160\n",
      "Epoch 2/10\n",
      "1500/1500 [==============================] - 3s 2ms/step - loss: 0.0155 - val_loss: 0.0143\n",
      "Epoch 3/10\n",
      "1500/1500 [==============================] - 3s 2ms/step - loss: 0.0143 - val_loss: 0.0137\n",
      "Epoch 4/10\n",
      "1500/1500 [==============================] - 3s 2ms/step - loss: 0.0136 - val_loss: 0.0128\n",
      "Epoch 5/10\n",
      "1500/1500 [==============================] - 3s 2ms/step - loss: 0.0127 - val_loss: 0.0125\n",
      "Epoch 6/10\n",
      "1500/1500 [==============================] - 3s 2ms/step - loss: 0.0126 - val_loss: 0.0124\n",
      "Epoch 7/10\n",
      "1500/1500 [==============================] - 3s 2ms/step - loss: 0.0124 - val_loss: 0.0123\n",
      "Epoch 8/10\n",
      "1500/1500 [==============================] - 3s 2ms/step - loss: 0.0123 - val_loss: 0.0121\n",
      "Epoch 9/10\n",
      "1500/1500 [==============================] - 3s 2ms/step - loss: 0.0122 - val_loss: 0.0121\n",
      "Epoch 10/10\n",
      "1500/1500 [==============================] - 3s 2ms/step - loss: 0.0121 - val_loss: 0.0120\n"
     ]
    }
   ],
   "source": [
    "# Train model\n",
    "model = AutoEncoder()\n",
    "model.compile(loss=[\"mse\"])\n",
    "model.fit(train[0], train[0], epochs=10, validation_data=(validate[0], validate[0]))"
   ]
  },
  {
   "cell_type": "code",
   "execution_count": 10,
   "id": "documented-morris",
   "metadata": {},
   "outputs": [
    {
     "data": {
      "image/png": "[encoded data removed]",
      "text/plain": [
       "<Figure size 432x288 with 9 Axes>"
      ]
     },
     "metadata": {
      "needs_background": "light"
     },
     "output_type": "display_data"
    }
   ],
   "source": [
    "index = np.random.randint(test[0].shape[0], size=3)\n",
    "fig, ax = plt.subplots(nrows=3, ncols=index.shape[0])\n",
    "for col in range(index.shape[0]):\n",
    "    for row in range(3):\n",
    "        ax[row][col].set_axis_off()\n",
    "    ax[0][col].imshow(test[0][index[col]], cmap=\"gray\")\n",
    "    ax[1][col].imshow(model.model.predict(test[0])[index[col]], cmap=\"gray\")\n",
    "    ax[2][col].imshow(model.encoder.predict(test[0])[index[col]].reshape((8,8)), cmap=\"gray\")\n",
    "plt.show()"
   ]
  },
  {
   "cell_type": "markdown",
   "id": "b0ac538c",
   "metadata": {},
   "source": [
    "上图三行分别表示：\n",
    "* 第一行为原始图片信息\n",
    "* 第二行为预测的图片信息\n",
    "* 第三行为 encoder 结果的特征信息"
   ]
  },
  {
   "cell_type": "code",
   "execution_count": null,
   "id": "a37007eb",
   "metadata": {},
   "outputs": [],
   "source": []
  }
 ],
 "metadata": {
  "kernelspec": {
   "display_name": "learning38",
   "language": "python",
   "name": "learning"
  },
  "language_info": {
   "codemirror_mode": {
    "name": "ipython",
    "version": 3
   },
   "file_extension": ".py",
   "mimetype": "text/x-python",
   "name": "python",
   "nbconvert_exporter": "python",
   "pygments_lexer": "ipython3",
   "version": "3.8.5"
  },
  "toc": {
   "base_numbering": 1,
   "nav_menu": {},
   "number_sections": true,
   "sideBar": true,
   "skip_h1_title": false,
   "title_cell": "Table of Contents",
   "title_sidebar": "Contents",
   "toc_cell": false,
   "toc_position": {},
   "toc_section_display": true,
   "toc_window_display": false
  },
  "varInspector": {
   "cols": {
    "lenName": 16,
    "lenType": 16,
    "lenVar": 40
   },
   "kernels_config": {
    "python": {
     "delete_cmd_postfix": "",
     "delete_cmd_prefix": "del ",
     "library": "var_list.py",
     "varRefreshCmd": "print(var_dic_list())"
    },
    "r": {
     "delete_cmd_postfix": ") ",
     "delete_cmd_prefix": "rm(",
     "library": "var_list.r",
     "varRefreshCmd": "cat(var_dic_list()) "
    }
   },
   "types_to_exclude": [
    "module",
    "function",
    "builtin_function_or_method",
    "instance",
    "_Feature"
   ],
   "window_display": false
  }
 },
 "nbformat": 4,
 "nbformat_minor": 5
}
